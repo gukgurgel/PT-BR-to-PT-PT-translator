{
 "cells": [
  {
   "cell_type": "code",
   "execution_count": 112,
   "metadata": {},
   "outputs": [],
   "source": [
    "def troca(string, qual_tirar):\n",
    "    nova = \"\"\n",
    "    for i in range(len(string)):\n",
    "        if i not in qual_tirar:\n",
    "            nova = nova + string[i]\n",
    "    return nova"
   ]
  },
  {
   "cell_type": "code",
   "execution_count": 113,
   "metadata": {},
   "outputs": [],
   "source": [
    "def traduz(versos):\n",
    "    vogais = ['a', 'á', 'à', 'â', 'ã', 'e', 'é', 'ê', 'i', 'í', 'o', 'ó', 'õ', 'ô', 'u', 'ú']\n",
    "    maisc_vogais = ['A', 'Á', 'À', 'Â', 'Ã', 'E', 'É', 'Ê', 'I', 'Í', 'O', 'Ó', 'Õ', 'Ô', 'U', 'Ú']\n",
    "    posfinal = [',', '.', ';', ' ', '(', ')', '!', '?', '\"']\n",
    "    cons = ['b', 'c', 'd', 'f', 'g', 'h', 'j', 'k', 'l', 'm', 'n', 'p', 'q', 'r', 's', 't', 'v', 'w', 'x', 'y', 'z']\n",
    "    maisc_cons = ['B', 'C', 'D', 'F', 'G', 'H', 'J', 'K', 'L', 'M', 'N', 'P', 'Q', 'R', 'S', 'T', 'V', 'W', 'X', 'Y', 'Z']\n",
    "    for verso_n in range(len(versos)):\n",
    "        verso = versos[verso_n]\n",
    "        qual_tirar = []\n",
    "        for i in range(len(verso)-2):\n",
    "            if ((verso[i] in cons) | (verso[i] in maisc_cons)):\n",
    "                if ((verso[i+1] in vogais) & (verso[i+2] in cons)):\n",
    "                    qual_tirar.append(i+1)\n",
    "        versos[verso_n] = troca(versos[verso_n], qual_tirar)\n",
    "        print(versos[verso_n])"
   ]
  },
  {
   "cell_type": "code",
   "execution_count": 114,
   "metadata": {},
   "outputs": [],
   "source": [
    "camoes = [\"Mudam-se os tempos, mudam-se as vontades,\",\n",
    "\"muda-se o ser, muda-se a confiança;\",\n",
    "\"todo o Mundo é composto de mudança,\",\n",
    "\"tomando sempre novas qualidades.\",\n",
    "\"Continuamente vemos novidades,\",\n",
    "\"diferentes em tudo da esperança;\",\n",
    "\"do mal ficam as mágoas na lembrança,\",\n",
    "\"e do bem (se algum houve), as saudades.\",\n",
    "\"O tempo cobre o chão de verde manto,\",\n",
    "\"que já coberto foi de neve fria,\",\n",
    "\"e, enfim, converte em choro o doce canto.\",\n",
    "\"E, afora este mudar-se cada dia,\",\n",
    "\"outra mudança faz de mor espanto,\",\n",
    "\"que não se muda já como soía.\"]"
   ]
  },
  {
   "cell_type": "code",
   "execution_count": 115,
   "metadata": {
    "scrolled": false
   },
   "outputs": [
    {
     "name": "stdout",
     "output_type": "stream",
     "text": [
      "Mdm-se os tmps, mdm-se as vntds,\n",
      "mda-se o sr, mda-se a cnfiança;\n",
      "tdo o Mndo é cmpsto de mdnça,\n",
      "tmndo smpre nvs qualdds.\n",
      "Cntnuamnte vms nvdds,\n",
      "dfrnts em tdo da esprnça;\n",
      "do ml fcm as mgoas na lmbrnça,\n",
      "e do bm (se algm houve), as saudds.\n",
      "O tmpo cbre o chão de vrde mnto,\n",
      "que já cbrto foi de nve fria,\n",
      "e, enfm, cnvrte em chro o dce cnto.\n",
      "E, afra este mdr-se cda dia,\n",
      "outra mdnça fz de mr espnto,\n",
      "que não se mda já cmo soía.\n"
     ]
    }
   ],
   "source": [
    "traduz(camoes)"
   ]
  }
 ],
 "metadata": {
  "kernelspec": {
   "display_name": "Python 3",
   "language": "python",
   "name": "python3"
  },
  "language_info": {
   "codemirror_mode": {
    "name": "ipython",
    "version": 3
   },
   "file_extension": ".py",
   "mimetype": "text/x-python",
   "name": "python",
   "nbconvert_exporter": "python",
   "pygments_lexer": "ipython3",
   "version": "3.7.7"
  }
 },
 "nbformat": 4,
 "nbformat_minor": 4
}
